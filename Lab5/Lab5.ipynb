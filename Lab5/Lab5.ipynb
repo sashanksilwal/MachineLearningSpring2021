{
 "cells": [
  {
   "cell_type": "markdown",
   "metadata": {},
   "source": [
    "## Week 5: Introduction to neural Networks"
   ]
  },
  {
   "cell_type": "markdown",
   "metadata": {},
   "source": [
    "### Perceptron learning rule"
   ]
  },
  {
   "cell_type": "markdown",
   "metadata": {},
   "source": [
    "This week, we will start working with neural networks. For each of the exercises below you can use the method of your choice but you should display the final boundary of your classifier."
   ]
  },
  {
   "cell_type": "markdown",
   "metadata": {},
   "source": [
    "#### Exercise 1. \n",
    "As a first exercise, load the binary dataset below and code a few steps of the perceptron learning rule. "
   ]
  },
  {
   "cell_type": "code",
   "execution_count": 1,
   "metadata": {},
   "outputs": [],
   "source": [
    "import scipy.io as sio\n",
    "data1 = sio.loadmat('perceptron_data_class1.mat')\n",
    "data2 = sio.loadmat('perceptron_data_class2.mat')\n",
    "\n",
    "data1 = data1['perceptron_data_class1']\n",
    "data2 = data2['perceptron_data_class2']\n",
    "\n",
    "# put your code here"
   ]
  },
  {
   "cell_type": "code",
   "execution_count": 2,
   "metadata": {},
   "outputs": [],
   "source": [
    "import matplotlib.pyplot as plt \n",
    "import numpy as np\n",
    "\n"
   ]
  },
  {
   "cell_type": "code",
   "execution_count": 3,
   "metadata": {},
   "outputs": [
    {
     "data": {
      "image/png": "[encoded data removed]",
      "text/plain": [
       "<Figure size 432x288 with 1 Axes>"
      ]
     },
     "metadata": {
      "needs_background": "light"
     },
     "output_type": "display_data"
    }
   ],
   "source": [
    "# sum_{misclassified points} t^(i) (beta+0 + beta_1)\n",
    "# loop over the misclassified samples beta^{k+1} <== beta^k + \n",
    "\n",
    "target1 = np.ones((np.shape(data1)[0], 1))\n",
    "target2 = np.ones((np.shape(data2)[0], 1))\n",
    "\n",
    "target = np.vstack((target1, target2))\n",
    "\n",
    "data = np.vstack((data1, data2))\n",
    "\n",
    "center_of_mass = np.mean(data, axis=0)\n",
    "\n",
    "center_of_mass = np.expand_dims(center_of_mass, 1)\n",
    "\n",
    "centered_data = data - np.matmul(np.ones((np.shape(data)[0],1)), center_of_mass.T)\n",
    "\n",
    "\n",
    "plt.scatter(centered_data[:np.shape(data1)[0], 0],centered_data[:np.shape(data1)[0], 1],c=\"r\")\n",
    "plt.scatter(centered_data[np.shape(data1)[0]:, 0],centered_data[np.shape(data1)[0]:, 1],c=\"b\")\n",
    "\n",
    "plt.show()"
   ]
  },
  {
   "cell_type": "code",
   "execution_count": 4,
   "metadata": {},
   "outputs": [
    {
     "data": {
      "image/png": "[encoded data removed]",
      "text/plain": [
       "<Figure size 432x288 with 1 Axes>"
      ]
     },
     "metadata": {
      "needs_background": "light"
     },
     "output_type": "display_data"
    }
   ],
   "source": [
    "beta= np.random.normal(0,1,(2,1))\n",
    "\n",
    "beta0 = 0\n",
    "\n",
    "beta = np.vstack((beta0, beta))\n",
    "\n",
    "x1min = np.min(centered_data[:,0])\n",
    "x1max = np.max(centered_data[:,0])\n",
    "\n",
    "x2min = np.min(centered_data[:,1])\n",
    "x2max = np.max(centered_data[:,1])\n",
    "\n",
    "xx,yy = np.meshgrid(np.linspace(x1min, x1max, 50), np.linspace(x2min, x2max, 50))\n",
    "\n",
    "\n",
    "# np.expand_dims(xx.flatten(), 1)\n",
    "\n",
    "Xtilde_tmp = np.hstack((np.expand_dims(xx.flatten(), 1), np.expand_dims(yy.flatten(), 1)))\n",
    "\n",
    "Xtilde = np.hstack((np.ones((len(xx.flatten()), 1)), Xtilde_tmp))\n",
    "\n",
    "prediction = np.matmul(Xtilde, beta)\n",
    "\n",
    "final_prediction_ = (prediction > 0) * 2 -1\n",
    "final_prediction2 = np.ones(np.shape(final_prediction_ ))\n",
    "\n",
    "plt.scatter(centered_data[:np.shape(data1)[0], 0],centered_data[:np.shape(data1)[0], 1],c=\"r\")\n",
    "plt.scatter(centered_data[np.shape(data1)[0]:, 0],centered_data[np.shape(data1)[0]:, 1],c=\"b\")\n",
    "plt.contourf(xx, yy, np.reshape(final_prediction_, np.shape(xx)), levels = 2, alpha = 0.2)\n",
    "plt.show()\n",
    " "
   ]
  },
  {
   "cell_type": "code",
   "execution_count": 25,
   "metadata": {},
   "outputs": [
    {
     "ename": "IndexError",
     "evalue": "too many indices for array",
     "output_type": "error",
     "traceback": [
      "\u001b[0;31m---------------------------------------------------------------------------\u001b[0m",
      "\u001b[0;31mIndexError\u001b[0m                                Traceback (most recent call last)",
      "\u001b[0;32m<ipython-input-25-5a237362266a>\u001b[0m in \u001b[0;36m<module>\u001b[0;34m\u001b[0m\n\u001b[1;32m      3\u001b[0m \u001b[0;34m\u001b[0m\u001b[0m\n\u001b[1;32m      4\u001b[0m \u001b[0mpredicted_target_trainingData\u001b[0m \u001b[0;34m=\u001b[0m \u001b[0mnp\u001b[0m\u001b[0;34m.\u001b[0m\u001b[0mmatmul\u001b[0m\u001b[0;34m(\u001b[0m\u001b[0mdataTilde\u001b[0m\u001b[0;34m,\u001b[0m \u001b[0mbeta\u001b[0m\u001b[0;34m)\u001b[0m\u001b[0;34m\u001b[0m\u001b[0;34m\u001b[0m\u001b[0m\n\u001b[0;32m----> 5\u001b[0;31m \u001b[0mmisclassified_points\u001b[0m \u001b[0;34m=\u001b[0m \u001b[0mcentered_data\u001b[0m\u001b[0;34m[\u001b[0m\u001b[0mnp\u001b[0m\u001b[0;34m.\u001b[0m\u001b[0msqueeze\u001b[0m\u001b[0;34m(\u001b[0m\u001b[0mnp\u001b[0m\u001b[0;34m.\u001b[0m\u001b[0mnot_equal\u001b[0m\u001b[0;34m(\u001b[0m\u001b[0mtarget\u001b[0m\u001b[0;34m,\u001b[0m \u001b[0mpredicted_target_trainingData\u001b[0m\u001b[0;34m)\u001b[0m\u001b[0;34m)\u001b[0m\u001b[0;34m,\u001b[0m\u001b[0;34m:\u001b[0m\u001b[0;34m]\u001b[0m\u001b[0;34m\u001b[0m\u001b[0;34m\u001b[0m\u001b[0m\n\u001b[0m\u001b[1;32m      6\u001b[0m \u001b[0;34m\u001b[0m\u001b[0m\n\u001b[1;32m      7\u001b[0m \u001b[0mmisclassified_points\u001b[0m\u001b[0;34m[\u001b[0m\u001b[0;36m0\u001b[0m\u001b[0;34m,\u001b[0m\u001b[0;34m:\u001b[0m\u001b[0;34m]\u001b[0m\u001b[0;34m\u001b[0m\u001b[0;34m\u001b[0m\u001b[0m\n",
      "\u001b[0;31mIndexError\u001b[0m: too many indices for array"
     ]
    }
   ],
   "source": [
    "dataTilde = np.hstack((np.ones((np.shape(data)[0],1)), centered_data))\n",
    "predicted_targets = final_prediction_\n",
    "\n",
    "predicted_target_trainingData = np.matmul(dataTilde, beta)\n",
    "misclassified_points = centered_data[np.squeeze(np.not_equal(target, predicted_target_trainingData)),:]\n",
    "\n",
    "misclassified_points[0,:]\n",
    "\n",
    "misclassified_targets = target[np.not_equal(target, predicted_target_trainingData)]\n",
    "\n",
    "xi = misclassified_points[0,:]\n",
    "ti = misclassified_targets[0]\n",
    "lr = 0.1\n",
    "\n",
    "beta = beta + lr * ti * xi\n",
    "\n",
    "# prediction = np.matmul(Xtiled, beta)\n",
    "\n",
    "plt.scatter(centered_data[:np.shape(data1)[0], 0],centered_data[:np.shape(data1)[0], 1],c=\"r\")\n",
    "plt.scatter(centered_data[np.shape(data1)[0]:, 0],centered_data[np.shape(data1)[0]:, 1],c=\"b\")\n",
    "plt.contourf(xx, yy, np.reshape(final_prediction_, np.shape(xx)), levels = 2, alpha = 0.2)\n",
    "plt.show()\n"
   ]
  },
  {
   "cell_type": "code",
   "execution_count": null,
   "metadata": {},
   "outputs": [],
   "source": []
  },
  {
   "cell_type": "markdown",
   "metadata": {},
   "source": [
    "#### Exercise 2.\n",
    "\n",
    "__2a.__ Load the data below. Using the neural_network module from scikit-learn and its MLPClassifier model, learn a classifier, for the dataset below using \n",
    "\n",
    "- One hidden layer with a linear activation function and \n",
    "    - One neuron\n",
    "    - Two neurons\n",
    "    \n",
    "    \n",
    "    \n",
    "- One hidden layer with a non linear activation function (take Relu for example or a binary step)\n",
    "    - One neuron\n",
    "    - Two neurons\n",
    "\n",
    "How many neurons, hidden layers do you need to learn the distribution of the data? Do you have an idea why?\n",
    "\n",
    "Try increasing the number of neurons and hidden layers. Then try different values of the learning rate. \n"
   ]
  },
  {
   "cell_type": "code",
   "execution_count": 30,
   "metadata": {},
   "outputs": [
    {
     "data": {
      "image/png": "[encoded data removed]",
      "text/plain": [
       "<Figure size 432x288 with 1 Axes>"
      ]
     },
     "metadata": {
      "needs_background": "light"
     },
     "output_type": "display_data"
    }
   ],
   "source": [
    "import scipy.io as sio\n",
    "data1 = sio.loadmat('neural_net_class1.mat')\n",
    "data2 = sio.loadmat('neural_net_class2.mat')\n",
    "\n",
    "data1 = data1['neural_net_class1']\n",
    "data2 = data2['neural_net_class2']\n",
    "\n",
    "from sklearn.neural_network import MLPClassifier\n",
    "\n",
    "# put your code here\n",
    "plt.scatter(data1[:, 0],data1[:, 1],c=\"r\")\n",
    "plt.scatter(data2[:, 0],data2[:, 1],c=\"b\")\n",
    "\n",
    "plt.show()"
   ]
  },
  {
   "cell_type": "code",
   "execution_count": 35,
   "metadata": {},
   "outputs": [
    {
     "ename": "ValueError",
     "evalue": "all the input array dimensions for the concatenation axis must match exactly, but along dimension 0, the array at index 0 has size 172 and the array at index 1 has size 195",
     "output_type": "error",
     "traceback": [
      "\u001b[0;31m---------------------------------------------------------------------------\u001b[0m",
      "\u001b[0;31mValueError\u001b[0m                                Traceback (most recent call last)",
      "\u001b[0;32m<ipython-input-35-41f6a03becca>\u001b[0m in \u001b[0;36m<module>\u001b[0;34m\u001b[0m\n\u001b[1;32m      4\u001b[0m \u001b[0mtarget2\u001b[0m \u001b[0;34m=\u001b[0m \u001b[0mnp\u001b[0m\u001b[0;34m.\u001b[0m\u001b[0mzeros\u001b[0m\u001b[0;34m(\u001b[0m\u001b[0;34m(\u001b[0m\u001b[0mnp\u001b[0m\u001b[0;34m.\u001b[0m\u001b[0mshape\u001b[0m\u001b[0;34m(\u001b[0m\u001b[0mdata2\u001b[0m\u001b[0;34m)\u001b[0m\u001b[0;34m[\u001b[0m\u001b[0;36m0\u001b[0m\u001b[0;34m]\u001b[0m\u001b[0;34m,\u001b[0m\u001b[0;36m1\u001b[0m\u001b[0;34m)\u001b[0m\u001b[0;34m)\u001b[0m\u001b[0;34m\u001b[0m\u001b[0;34m\u001b[0m\u001b[0m\n\u001b[1;32m      5\u001b[0m \u001b[0;34m\u001b[0m\u001b[0m\n\u001b[0;32m----> 6\u001b[0;31m \u001b[0mtarget\u001b[0m\u001b[0;34m=\u001b[0m \u001b[0mnp\u001b[0m\u001b[0;34m.\u001b[0m\u001b[0mhstack\u001b[0m\u001b[0;34m(\u001b[0m\u001b[0;34m(\u001b[0m\u001b[0mtarget1\u001b[0m\u001b[0;34m,\u001b[0m \u001b[0mtarget2\u001b[0m\u001b[0;34m)\u001b[0m\u001b[0;34m)\u001b[0m\u001b[0;34m\u001b[0m\u001b[0;34m\u001b[0m\u001b[0m\n\u001b[0m\u001b[1;32m      7\u001b[0m \u001b[0;34m\u001b[0m\u001b[0m\n\u001b[1;32m      8\u001b[0m \u001b[0;34m\u001b[0m\u001b[0m\n",
      "\u001b[0;32m<__array_function__ internals>\u001b[0m in \u001b[0;36mhstack\u001b[0;34m(*args, **kwargs)\u001b[0m\n",
      "\u001b[0;32m/opt/anaconda3/lib/python3.7/site-packages/numpy/core/shape_base.py\u001b[0m in \u001b[0;36mhstack\u001b[0;34m(tup)\u001b[0m\n\u001b[1;32m    343\u001b[0m         \u001b[0;32mreturn\u001b[0m \u001b[0m_nx\u001b[0m\u001b[0;34m.\u001b[0m\u001b[0mconcatenate\u001b[0m\u001b[0;34m(\u001b[0m\u001b[0marrs\u001b[0m\u001b[0;34m,\u001b[0m \u001b[0;36m0\u001b[0m\u001b[0;34m)\u001b[0m\u001b[0;34m\u001b[0m\u001b[0;34m\u001b[0m\u001b[0m\n\u001b[1;32m    344\u001b[0m     \u001b[0;32melse\u001b[0m\u001b[0;34m:\u001b[0m\u001b[0;34m\u001b[0m\u001b[0;34m\u001b[0m\u001b[0m\n\u001b[0;32m--> 345\u001b[0;31m         \u001b[0;32mreturn\u001b[0m \u001b[0m_nx\u001b[0m\u001b[0;34m.\u001b[0m\u001b[0mconcatenate\u001b[0m\u001b[0;34m(\u001b[0m\u001b[0marrs\u001b[0m\u001b[0;34m,\u001b[0m \u001b[0;36m1\u001b[0m\u001b[0;34m)\u001b[0m\u001b[0;34m\u001b[0m\u001b[0;34m\u001b[0m\u001b[0m\n\u001b[0m\u001b[1;32m    346\u001b[0m \u001b[0;34m\u001b[0m\u001b[0m\n\u001b[1;32m    347\u001b[0m \u001b[0;34m\u001b[0m\u001b[0m\n",
      "\u001b[0;32m<__array_function__ internals>\u001b[0m in \u001b[0;36mconcatenate\u001b[0;34m(*args, **kwargs)\u001b[0m\n",
      "\u001b[0;31mValueError\u001b[0m: all the input array dimensions for the concatenation axis must match exactly, but along dimension 0, the array at index 0 has size 172 and the array at index 1 has size 195"
     ]
    }
   ],
   "source": [
    "data = np.vstack((data1, data2))\n",
    "\n",
    "target1 = np.ones((np.shape(data1)[0],1))\n",
    "target2 = np.zeros((np.shape(data2)[0],1))\n",
    "\n",
    "target= np.hstack((target1, target2))\n",
    "\n",
    "\n",
    "clf = MLPClassifier(max_iter = 100, hidden_layer_sizes = (1,), activation = 'logistic')\n",
    "clf.fit(data, target)\n",
    "\n",
    "Xprediction = np.hstack()\n"
   ]
  },
  {
   "cell_type": "markdown",
   "metadata": {},
   "source": [
    "__2b.__ Keep the dataset from above. try to change the intialization of the training algorithm. Plot the resulting classifier for a couple of different initializations. What do you see?\n",
    "\n",
    "Do it for a small network first. Then repeat those experiments for larger architectures. I.e. increase the number of neurons and the number of layers. What do you see when you change the initialization?\n"
   ]
  },
  {
   "cell_type": "code",
   "execution_count": 6,
   "metadata": {},
   "outputs": [],
   "source": [
    "\n",
    "# put your code here"
   ]
  },
  {
   "cell_type": "markdown",
   "metadata": {},
   "source": [
    "#### Exercise 3. \n",
    "\n",
    "__3a.__Load the data below. Try to build the best neural network you can for this dataset. Split the data between a training and a test set and evaluate the models you built. What is the best validation error you can get?\n"
   ]
  },
  {
   "cell_type": "code",
   "execution_count": 36,
   "metadata": {},
   "outputs": [],
   "source": [
    "\n",
    "import scipy.io as sio\n",
    "data1 = sio.loadmat('neural_net_ex2_class1.mat')\n",
    "data2 = sio.loadmat('neural_net_ex2_class2.mat')\n",
    "\n",
    "data1 = data1['neural_net_ex2_class1']\n",
    "data2 = data2['neural_net_ex2_class2']\n",
    "\n",
    "from sklearn.neural_network import MLPClassifier\n",
    "\n",
    "\n",
    "# put your code here"
   ]
  },
  {
   "cell_type": "markdown",
   "metadata": {},
   "source": [
    "\n",
    "__3b.__ With the same dataset, add additional features to your model, e.g. $\\sin(x), \\sin(y)$ or other monomials. Can you improve your classifier ?"
   ]
  },
  {
   "cell_type": "code",
   "execution_count": 8,
   "metadata": {},
   "outputs": [],
   "source": [
    "# put your code here\n",
    "\n",
    "\n"
   ]
  }
 ],
 "metadata": {
  "kernelspec": {
   "display_name": "Python 3",
   "language": "python",
   "name": "python3"
  },
  "language_info": {
   "codemirror_mode": {
    "name": "ipython",
    "version": 3
   },
   "file_extension": ".py",
   "mimetype": "text/x-python",
   "name": "python",
   "nbconvert_exporter": "python",
   "pygments_lexer": "ipython3",
   "version": "3.7.6"
  }
 },
 "nbformat": 4,
 "nbformat_minor": 2
}
