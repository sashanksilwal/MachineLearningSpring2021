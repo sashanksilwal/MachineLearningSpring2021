{
 "cells": [
  {
   "cell_type": "markdown",
   "metadata": {},
   "source": [
    "## Lab 7: Kernels, Support Vector Machines"
   ]
  },
  {
   "cell_type": "markdown",
   "metadata": {},
   "source": [
    "### Part I: Kernels \n",
    "\n",
    "#### Exercise 1. A complex dataset\n",
    "\n",
    "Consider the dataset given below. We want to learn a classifier for this data, by relying on the $\\ell_2$ loss.  "
   ]
  },
  {
   "cell_type": "code",
   "execution_count": 1,
   "metadata": {},
   "outputs": [
    {
     "data": {
      "image/png": "[encoded data removed]",
      "text/plain": [
       "<Figure size 432x288 with 1 Axes>"
      ]
     },
     "metadata": {
      "needs_background": "light"
     },
     "output_type": "display_data"
    }
   ],
   "source": [
    "import numpy as np\n",
    "import matplotlib.pyplot as plt\n",
    "\n",
    "from scipy.io import loadmat\n",
    "pointsClass1 = loadmat('KernelPointsEx1class1.mat')['PointsEx1class1']\n",
    "pointsClass2 = loadmat('KernelPointsEx1class2.mat')['PointsEx1class2']\n",
    "\n",
    "\n",
    "plt.scatter(pointsClass1[:,0], pointsClass1[:,1], c='r')\n",
    "plt.scatter(pointsClass2[:,0], pointsClass2[:,1], c='b')\n",
    "plt.show()"
   ]
  },
  {
   "cell_type": "markdown",
   "metadata": {},
   "source": [
    "#### Exercise 1.1 Gradient updates on the dual formulation\n",
    "\n",
    "Start by generating polynomial features using the function 'sklearn.preprocessing.PolynomialFeatures' from scikit learn. By relying on the kernel trick, starting from the $\\ell_2$ (OLS) loss, derive the dual formulation (optimization problem on the coefficients $\\lambda_i$ that are used to express the weight vector $\\beta$ as the combination $\\beta$). Once you have that loss, find the optimal coefficients $\\lambda^*$ through gradient updates. "
   ]
  },
  {
   "cell_type": "code",
   "execution_count": 2,
   "metadata": {},
   "outputs": [],
   "source": [
    "target_class1 = np.ones((np.shape(pointsClass1)[0],1)) \n",
    "target_class2 = np.zeros((np.shape(pointsClass2)[0],1))\n",
    "\n",
    "targets = np.vstack((target_class1, target_class2))\n",
    "points = np.vstack((pointsClass1, pointsClass2))"
   ]
  },
  {
   "cell_type": "code",
   "execution_count": 3,
   "metadata": {},
   "outputs": [],
   "source": [
    "from sklearn.preprocessing import PolynomialFeatures\n",
    "poly = PolynomialFeatures(4)\n",
    "phi = poly.fit_transform(points)\n",
    "\n",
    "N = len(targets)\n",
    "# size of phi N times number of features \n",
    "# Phi = [phi(x^1)^T; phi(x^2)^T; .... phi(x^N)^T]\n",
    "# my convention is that phi(x^i) are vertical \n",
    "\n",
    "\n",
    "# Phi*Phi^T\n",
    "Kernel = np.matmul(phi, phi.T)\n"
   ]
  },
  {
   "cell_type": "code",
   "execution_count": 4,
   "metadata": {},
   "outputs": [],
   "source": [
    "# put your code here \n",
    "\n",
    "import numpy as np\n",
    "import matplotlib.pyplot as plt\n",
    "\n",
    "\n",
    "k = 0\n",
    "MaxIter =400\n",
    "\n",
    "eta = .05\n",
    "\n",
    "lbd = np.zeros((N,1));\n",
    "\n",
    "# lambda = lambda + eta*(1/N)*(t- sum lambda Phi^T phi)\n",
    "\n",
    "\n",
    "while k < MaxIter:\n",
    "    \n",
    "    lbd += eta*(1/N)*(targets - np.matmul(Kernel, lbd)) \n",
    "    \n",
    "    k += 1"
   ]
  },
  {
   "cell_type": "markdown",
   "metadata": {},
   "source": [
    "#### Exercise 1.2 Final Models\n",
    "\n",
    "Using the optimal coefficients, derive the classifier $y(\\mathbf{x}) = \\mathbf{\\beta}^T\\mathbf{\\phi}(\\mathbf{x})$, expressing the weight vector $\\mathbf{\\beta}$ as the combination $\\mathbf{\\beta} = \\sum_{i=1}^N \\lambda_i^* \\mathbf{\\phi}(\\mathbf{x}^{(i)})$. Then display the boundary by using meshgrid. "
   ]
  },
  {
   "cell_type": "code",
   "execution_count": 5,
   "metadata": {},
   "outputs": [
    {
     "name": "stdout",
     "output_type": "stream",
     "text": [
      "(64, 15)\n",
      "(1, 64)\n"
     ]
    }
   ],
   "source": [
    "print(np.shape(phi))\n",
    "print(np.shape(lbd.T))\n",
    "beta = np.matmul(lbd.T,phi)\n"
   ]
  },
  {
   "cell_type": "code",
   "execution_count": 6,
   "metadata": {},
   "outputs": [
    {
     "data": {
      "image/png": "[encoded data removed]",
      "text/plain": [
       "<Figure size 432x288 with 1 Axes>"
      ]
     },
     "metadata": {
      "needs_background": "light"
     },
     "output_type": "display_data"
    }
   ],
   "source": [
    "beta = np.matmul(lbd.T,phi)\n",
    "\n",
    "\n",
    "x1max = np.max(points[:,0])\n",
    "x1min = np.min(points[:,0])\n",
    "x2max = np.max(points[:,1])\n",
    "x2min = np.min(points[:,1])\n",
    "\n",
    "\n",
    "xx1, xx2 = np.meshgrid(np.linspace(x1min, x1max, 100),np.linspace(x2min, x2max, 100) )\n",
    "\n",
    "Xpredict = (np.vstack((xx1.flatten(), xx2.flatten()))).T\n",
    "\n",
    "phi_x = poly.fit_transform(Xpredict)\n",
    "\n",
    "# y(x) = sum lambda_i (phi(i)^T phi(x)) = beta^T phi(x)\n",
    "# y(x) = beta^T phi(x) = (sum_i lambda_i phi(x_i)^T phi(x))\n",
    "\n",
    "from matplotlib.colors import ListedColormap\n",
    "cm = plt.cm.RdBu\n",
    "cm_bright = ListedColormap(['#0000FF', '#FF0000'])\n",
    "\n",
    "prediction = np.matmul(beta,phi_x.T) \n",
    "\n",
    "fig, ax = plt.subplots()\n",
    "ax.contourf(xx1, xx2, np.reshape(prediction>0.5, np.shape(xx1)), cmap=cm_bright, alpha=0.2, levels=1)\n",
    "plt.scatter(pointsClass1[:,0], pointsClass1[:,1], c='r')\n",
    "plt.scatter(pointsClass2[:,0], pointsClass2[:,1], c='b')\n",
    "plt.show()\n",
    "\n"
   ]
  },
  {
   "cell_type": "markdown",
   "metadata": {},
   "source": [
    "#### Exercise 2 A disconnected dataset. \n",
    "\n",
    "We want to make the problem a little more difficult. Use your implementation of descent algorithm to learn a classifier for the dataset below. Progressively increase the number of features (i.e. increase the degree) and keep in mind that there is often and efficient way to compute the Kernel matrix. "
   ]
  },
  {
   "cell_type": "code",
   "execution_count": 7,
   "metadata": {},
   "outputs": [
    {
     "data": {
      "image/png": "[encoded data removed]",
      "text/plain": [
       "<Figure size 432x288 with 1 Axes>"
      ]
     },
     "metadata": {
      "needs_background": "light"
     },
     "output_type": "display_data"
    }
   ],
   "source": [
    "import numpy as np\n",
    "import matplotlib.pyplot as plt\n",
    "\n",
    "from scipy.io import loadmat\n",
    "pointsClass1 = loadmat('KernelPointsEx2class1.mat')['PointsEx2class1']\n",
    "pointsClass2 = loadmat('KernelPointsEx2class2.mat')['PointsEx2class2']\n",
    "\n",
    "\n",
    "plt.scatter(pointsClass1[:,0], pointsClass1[:,1], c='r')\n",
    "plt.scatter(pointsClass2[:,0], pointsClass2[:,1], c='b')\n",
    "plt.show()\n",
    "\n",
    "\n",
    "target_class1 = np.ones((np.shape(pointsClass1)[0],1)) \n",
    "target_class2 = np.zeros((np.shape(pointsClass2)[0],1))\n",
    "\n",
    "targets = np.vstack((target_class1, target_class2))\n",
    "points = np.vstack((pointsClass1, pointsClass2))\n",
    "\n",
    "\n",
    "N = len(targets)\n",
    "\n",
    "from numpy import linalg as LA\n",
    "\n",
    "sigma = 0.1\n",
    "\n",
    "K = np.zeros((N,N))\n",
    "\n",
    "x1min = np.ma\n",
    "\n",
    "for i in range(N):\n",
    "    for j in range(N):\n",
    "        \n",
    "        \n",
    "        K[i,j] = np.exp(-(LA.norm(points[i,:] - points[j,:])**2)/2/(sigma**2))\n",
    "      \n",
    "    \n",
    "    \n",
    "\n",
    "    \n",
    "while k < MaxIter:\n",
    "    lbd += eta*(1/N)*(targets - np.matmul(K, lbd))\n",
    "    k+=1      \n",
    "        \n",
    "\n",
    "# lambda = lambda + eta*(1/N)*(t- sum lambda Phi^T phi)\n",
    "\n",
    "\n",
    "\n",
    "\n",
    "\n",
    "\n"
   ]
  },
  {
   "cell_type": "markdown",
   "metadata": {},
   "source": [
    "#### Exercise 3. From polynomial fesatures to the Gaussian kernel\n",
    "\n",
    "Use your gradient descent iterations on the $\\mathbf{\\lambda}_i$ to learn a classifier for the dataset below by relying on the Gaussian kernel. "
   ]
  },
  {
   "cell_type": "code",
   "execution_count": 8,
   "metadata": {},
   "outputs": [
    {
     "data": {
      "image/png": "[encoded data removed]",
      "text/plain": [
       "<Figure size 432x288 with 1 Axes>"
      ]
     },
     "metadata": {
      "needs_background": "light"
     },
     "output_type": "display_data"
    }
   ],
   "source": [
    "import numpy as np\n",
    "import matplotlib.pyplot as plt\n",
    "\n",
    "from scipy.io import loadmat\n",
    "pointsClass1 = loadmat('KernelPointsEx3class1.mat')['PointsEx3class1']\n",
    "pointsClass2 = loadmat('KernelPointsEx3class2.mat')['PointsEx3class2']\n",
    "\n",
    "\n",
    "plt.scatter(pointsClass1[:,0], pointsClass1[:,1], c='r')\n",
    "plt.scatter(pointsClass2[:,0], pointsClass2[:,1], c='b')\n",
    "plt.show()"
   ]
  },
  {
   "cell_type": "markdown",
   "metadata": {},
   "source": [
    "### Part II : Maximizing the margin\n",
    "\n",
    "#### Exercise 1. The hinge loss\n",
    "\n",
    "Consider the dataset below. We would like to learn a classifier for this dataset that maximizes the margin (i.e. such that the distance between the closest points to the plane is maximized). We have seen that one can solve this problem by means of the constrained formulation\n",
    "\n",
    "\\begin{align*}\n",
    "\\min_{\\mathbf{\\beta}} \\quad & \\|\\mathbf{\\beta}\\|^2 \\\\\n",
    "\\text{subject to} \\quad & y(\\mathbf{x}^{(i)})t^{(i)} \\geq 1 \n",
    "\\end{align*}\n",
    "\n",
    "where $y(\\mathbf{x}^{(i)}) = \\mathbf{\\beta}^T\\mathbf{x}^{(i)} + \\beta_0$. We might sometimes want to use a (softer) unconstrained formulation. in particular, when selecting this option, we can use the following function known as the _Hinge loss_ \n",
    "\n",
    "\\begin{align*}\n",
    "\\max(0, 1-t^{(i)}y(\\mathbf{x}^{(i)})) = \\max(0, 1-t^{(i)}(\\mathbf{\\beta}^T\\mathbf{x}^{(i)}+\\beta_0))\n",
    "\\end{align*}\n",
    "\n",
    "For such a loss, we can derive a softer, unconstrained version of the problem as \n",
    "\n",
    "\\begin{align*}\n",
    "\\min_{\\mathbf{\\beta}} \\quad & \\|\\mathbf{\\beta}\\|^2 + \\frac{C}{N}\\sum_{i=1}^N \\max(0, 1-t^{(i)}(\\mathbf{\\beta}^T\\mathbf{x}^{(i)}+\\beta_0))\n",
    "\\end{align*}\n",
    "\n",
    "In short we penalize a point, only if this point lies on the wrong side of the plane."
   ]
  },
  {
   "cell_type": "code",
   "execution_count": 9,
   "metadata": {},
   "outputs": [
    {
     "data": {
      "image/png": "[encoded data removed]",
      "text/plain": [
       "<Figure size 432x288 with 1 Axes>"
      ]
     },
     "metadata": {
      "needs_background": "light"
     },
     "output_type": "display_data"
    }
   ],
   "source": [
    "import numpy as np\n",
    "import matplotlib.pyplot as plt\n",
    "\n",
    "from scipy.io import loadmat\n",
    "pointsClass1 = loadmat('KernelPointsEx4class1.mat')['PointsEx4class1']\n",
    "pointsClass2 = loadmat('KernelPointsEx4class2.mat')['PointsEx4class2']\n",
    "\n",
    "\n",
    "plt.scatter(pointsClass1[:,0], pointsClass1[:,1], c='r')\n",
    "plt.scatter(pointsClass2[:,0], pointsClass2[:,1], c='b')\n",
    "plt.show()"
   ]
  },
  {
   "cell_type": "markdown",
   "metadata": {},
   "source": [
    "#### Exercise 1.1 \n",
    "\n",
    "Start by completing the function below which should return the value and gradient of the hinge loss at a point $\\mathbf{x}^{(i)}$. What is the gradient of the hinge loss?"
   ]
  },
  {
   "cell_type": "code",
   "execution_count": 10,
   "metadata": {},
   "outputs": [],
   "source": [
    "def HingeLoss(x):\n",
    "    \n",
    "    '''Returns the value and gradient of the hinge \n",
    "    loss at the point x'''\n",
    "    \n",
    "    \n",
    "    \n",
    "    return value, gradient"
   ]
  },
  {
   "cell_type": "markdown",
   "metadata": {},
   "source": [
    "#### Exercise 1.2\n",
    "\n",
    "Once you have the function, implement a function HingeLossSVC that takes as innput a starting weight vector $\\mathbf{\\beta}$ and intercept $\\beta_0$ as well as the set of training points and a value for the parameter $C$ and returns the maximum margin classifier.  "
   ]
  },
  {
   "cell_type": "code",
   "execution_count": 11,
   "metadata": {},
   "outputs": [
    {
     "ename": "SyntaxError",
     "evalue": "invalid syntax (<ipython-input-11-80ff9f50bc22>, line 1)",
     "output_type": "error",
     "traceback": [
      "\u001b[0;36m  File \u001b[0;32m\"<ipython-input-11-80ff9f50bc22>\"\u001b[0;36m, line \u001b[0;32m1\u001b[0m\n\u001b[0;31m    def HingeLossSVC(beta_init, beta0_init training, C):\u001b[0m\n\u001b[0m                                                  ^\u001b[0m\n\u001b[0;31mSyntaxError\u001b[0m\u001b[0;31m:\u001b[0m invalid syntax\n"
     ]
    }
   ],
   "source": [
    "def HingeLossSVC(beta_init, beta0_init training, C):\n",
    "    \n",
    "    '''Returns the maximal margin classifier for the \n",
    "    training dataset'''\n",
    "    \n",
    "    \n",
    "    \n",
    "    \n",
    "    \n",
    "    return beta, beta0"
   ]
  },
  {
   "cell_type": "markdown",
   "metadata": {},
   "source": [
    "#### Exercise 2. \n",
    "\n",
    "We now would like to find a maximal margin classifier based on the Gaussian kernel. Write the dual formulation and use the Kernel trick to replace the inner product of the feature vectors with the (Gaussian) Kernel matrix. The dual formulation is quadratically constrained program. In order to solve this problem, we will rely on the [CVXOPT](https://cvxopt.org/) library. You can install this library from the terminal using the line 'pip install cvxopt'  \n",
    "\n",
    "CVXOPT provides a [quadratic solver](https://cvxopt.org/examples/tutorial/qp.html) which is defined by means of 6 matrices $Q, p, G, h, A, b$ which define the problem to be solved as \n",
    "\n",
    "\\begin{align*}\n",
    "\\text{minimize} \\quad & \\frac{1}{2} \\mathbf{x}^T\\mathbf{P}\\mathbf{x} + \\mathbf{q}^T\\mathbf{x}\\\\\n",
    "\\text{subject to}\\quad  & \\mathbf{G}\\mathbf{x} \\preceq h\\\\\n",
    "&\\mathbf{A}\\mathbf{x} = \\mathbf{b}\n",
    "\\end{align*}\n",
    "\n",
    "Here the notation $\\mathbf{x}\\preceq 0$ is used to indicate that every entry of the vector $\\mathbf{x}$ has to be non negative"
   ]
  },
  {
   "cell_type": "markdown",
   "metadata": {},
   "source": [
    "#### Exercise 2.1 The gaussian kernel \n",
    "\n",
    "Start by providing the definition of the Gaussian kernel in order to define the matrix $\\mathbf{P}$"
   ]
  },
  {
   "cell_type": "code",
   "execution_count": null,
   "metadata": {},
   "outputs": [],
   "source": [
    "import numpy as np\n",
    "\n",
    "\n",
    "def GaussianKernel(training, sigma):\n",
    "    \n",
    "    '''should return the kernel matrix K whose \n",
    "    entry K_ij is defined as K(x_i, x_j) = exp(-||x_i - x_j||^2/(2*sigma^2))'''\n",
    "    \n",
    "    \n",
    "    return K"
   ]
  },
  {
   "cell_type": "markdown",
   "metadata": {},
   "source": [
    "#### Exercise 2.2 Solving the QCQP\n",
    "\n",
    "Relying on the dual formulation and on the Gaussian kernel, provide a sensible definition for each of the matrices $Q, p, G, h, A, b$ and solve the quadratic program using CVXOPT."
   ]
  },
  {
   "cell_type": "code",
   "execution_count": null,
   "metadata": {},
   "outputs": [],
   "source": [
    "import numpy as np\n",
    "from cvxopt import matrix, solvers"
   ]
  }
 ],
 "metadata": {
  "kernelspec": {
   "display_name": "Python 3",
   "language": "python",
   "name": "python3"
  },
  "language_info": {
   "codemirror_mode": {
    "name": "ipython",
    "version": 3
   },
   "file_extension": ".py",
   "mimetype": "text/x-python",
   "name": "python",
   "nbconvert_exporter": "python",
   "pygments_lexer": "ipython3",
   "version": "3.7.6"
  }
 },
 "nbformat": 4,
 "nbformat_minor": 4
}
