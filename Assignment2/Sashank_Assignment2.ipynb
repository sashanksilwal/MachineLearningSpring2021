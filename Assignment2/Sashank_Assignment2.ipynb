{
 "cells": [
  {
   "cell_type": "markdown",
   "metadata": {},
   "source": [
    "# NYU Introduction to Machine Learning\n",
    "## Assignment 2\n",
    "\n",
    "__<font color='red'>Given date: February 20</font>__\n",
    "\n",
    "__<font color='red'>Due Date: March 15</font>__\n",
    "\n",
    "__Total: 25pts__\n",
    "\n",
    "In this assignment you will implement the main regularization approaches as well as cross validation. You will study how the OLS criterion that we used in regression can be extended to classification. "
   ]
  },
  {
   "cell_type": "markdown",
   "metadata": {},
   "source": [
    "#### Question 1. Understanding Cross validation (5pts)\n",
    "\n",
    "Using the lines below load the dataset 'Assignment2_Ex1_xi' and 'Assignment2_Ex1_ti'. Each of the points in the training set is represented by 5 features $x_{i,1}$, $x_{i,2}, \\ldots x_{i,5}$. Among those features we want to find those which are the most meaningful to the description of the targets $t_i$. You can think of the targets as expressing for example the probability to develop a particular trait or disease and the features as encoding the expressivity of particular genes. In such a framework the objective would thus mean finding the genes that most influence the particular trait. For this we will implement a Best Subset Selection approach with cross validation. Complete the cell below by implementing the following steps\n",
    "\n",
    "__1.__ For each number of weights (d=1 to 5) compute all the subsets (beta_i, beta_j, ...) of size d of weights.\n",
    "\n",
    "__2.__ Split the training set in K=5 bins, for each bin k=1,...5, learn the weights by using the linear_regression function of scikit learn (do not reimplement gradient descent except if you really have too much time). Learn the weights on the remaining K-1 bins then comute the MSE on bin k. \n",
    "\n",
    "__3.__ Find the optimal subset of coefficients by comparing the MSE and plot the MSE as a function of the number k of weights by averaging the errors over the size k subsets. I.e MSE(1) = (1/5)(MSE(beta0) + MSE(beta1) + ...MSE(beta4))\n"
   ]
  },
  {
   "cell_type": "code",
   "execution_count": 1,
   "metadata": {},
   "outputs": [],
   "source": [
    "import itertools\n",
    "import time\n",
    "import numpy as np\n",
    "import pandas as pd\n",
    "import seaborn as sns\n",
    "import statsmodels.api as sm\n",
    "import matplotlib.pyplot as plt\n",
    "from sklearn import linear_model\n",
    "from sklearn.model_selection import KFold\n",
    "from sklearn.metrics import mean_squared_error\n",
    "from sklearn.linear_model import LinearRegression"
   ]
  },
  {
   "cell_type": "code",
   "execution_count": 2,
   "metadata": {
    "scrolled": false
   },
   "outputs": [
    {
     "name": "stdout",
     "output_type": "stream",
     "text": [
      "Average MSE for subsets with: \n",
      "\n",
      "1  features =  6.046389346335924\n",
      "2  features =  4.5454991837666014\n",
      "3  features =  3.0340794696417936\n",
      "4  features =  1.5158684720746083\n",
      "5  features =  2.4497751855407863e-30\n"
     ]
    },
    {
     "data": {
      "image/png": "[encoded data removed]",
      "text/plain": [
       "<Figure size 432x288 with 1 Axes>"
      ]
     },
     "metadata": {
      "needs_background": "light"
     },
     "output_type": "display_data"
    }
   ],
   "source": [
    "xi = np.load('Assignment2_Ex1_xi.npy')\n",
    "ti = np.load('Assignment2_Ex1_ti.npy')\n",
    "\n",
    "D = 5 # number of coefficients \n",
    "\n",
    "K = 5 # number of bins used for cross validation\n",
    "\n",
    "# Note that K does not have to be equal to D \n",
    "# (this is a choice we make here but we could have taken any value for K)\n",
    "\n",
    "# Step 1: Finding the optimal d\n",
    "\n",
    "#Initialization variables\n",
    "\n",
    "MSE_list, avg_MSE, total_mse = [],[],[]\n",
    "\n",
    "print(\"Average MSE for subsets with: \\n\" )\n",
    "# looping through each feature \n",
    "for d in range(1,D + 1):\n",
    "    sum_MSE = 0\n",
    "    \n",
    "    # 1) select each of the (D choose d) subset of coefficient and learn a \n",
    "    # model and compute the MSE\n",
    "    subset_mse = []\n",
    " \n",
    "    for combo in itertools.combinations(range(D),d):\n",
    "        Xi = xi.T[list(combo)]\n",
    "        Xi = Xi.T\n",
    "    \n",
    "        kf = KFold(n_splits=5)\n",
    "\n",
    "        MSE_list = []\n",
    "        \n",
    "        #k fold splitting the data into test/train\n",
    "        for train_index, test_index in kf.split(Xi):\n",
    "            X_train, X_test = Xi[train_index], Xi[test_index]\n",
    "            y_train, y_test = ti[train_index], ti[test_index]\n",
    "            \n",
    "            # fitting the model\n",
    "            L_reg = LinearRegression().fit(X_train,y_train)\n",
    "            predictions = L_reg.predict(X_test)\n",
    "            \n",
    "            # calculating the MSE for each individual bucket of subset \n",
    "            mse = mean_squared_error(y_test, predictions)\n",
    "            MSE_list.append(mse)\n",
    "            \n",
    "        # taking the final average for each subset from cv\n",
    "        favg_MSE = sum(MSE_list) / len(MSE_list)\n",
    "        subset_mse.append(favg_MSE)\n",
    "        total_mse.append(favg_MSE)\n",
    "\n",
    "    # calculating the average for each combination of subset of data\n",
    "    combination = (np.math.factorial(D)/(np.math.factorial(D-d)*np.math.factorial(d)))\n",
    "    avg_MSE.append(sum(subset_mse)/combination)\n",
    "    \n",
    "    final = sum(subset_mse)/len(subset_mse)\n",
    "    print(d,\" features = \", final)\n",
    "\n",
    "        \n",
    "# Step 2 plotting the evolution of the average prediction error as a function of the number of coefficient\n",
    "\n",
    "plt.scatter(range(1,6),avg_MSE)\n",
    "plt.xlabel('Number of Features')\n",
    "plt.ylabel('Average prediction error')\n",
    "plt.title('The evolution of the average prediction error as a function of the number of coefficient')\n",
    "plt.show() "
   ]
  },
  {
   "cell_type": "markdown",
   "metadata": {},
   "source": [
    "#### Question 2. Predicting graduate admissions (5pts)\n",
    "\n",
    "In this second question, we want to predict admission to graduate school based on a collection of features [provided by Kaggle](https://www.kaggle.com/mohansacharya/graduate-admissions) \n",
    "including: \n",
    "\n",
    "- GRE and TOEFL Scores\n",
    "- University Rating \n",
    "- Letter of Recommendation Strength \n",
    "- Undergraduate GPA \n",
    "- ...\n",
    "    \n",
    "We want to learn a ridge regression model (use the scikit learn model with the fit and predict functions). \n",
    "\n",
    "- Start by splitting the dataset into a training (about 90%) an a test (remaining 10%) parts using a call to the train_test_split function from the model_selection module. Put the test aside for the rest of the exercise. \n",
    "\n",
    "- Now that you are perfectly comfortable with the idea of cross validation, we will also try to evaluate the optimal lambda in the Ridge regression model. For this, you can use an extension of scikit learn Ridge regression model: sklearn.linear_model.RidgeCV. This extension lets you specify an array of $\\lambda$ values ($\\alpha$ in scikit learn) to try. The best value is then returned through a call to the 'alpha_' attribute of the model (read the [documentation](https://scikit-learn.org/stable/modules/generated/sklearn.linear_model.RidgeCV.html) for more details). Train the model (both lambda and beta) on the training subset of item 1.\n",
    "\n",
    "- Finally evaluate the prediction of your model on the 10% test set you kept on the side at the beginning. \n",
    "\n",
    "\n"
   ]
  },
  {
   "cell_type": "code",
   "execution_count": 3,
   "metadata": {
    "scrolled": false
   },
   "outputs": [
    {
     "name": "stdout",
     "output_type": "stream",
     "text": [
      "The best value of alpha:  1.0\n",
      "\n",
      "The MSE for the predictions with Ridge Regression is:  0.00348068759559814\n",
      "R2 Score for ridge:  0.8625850000257349\n",
      "\n",
      "The MSE for the predictions with Linear Regression is:  0.0034765034319357256\n",
      "R2 score for linear: 0.8627501877461986\n"
     ]
    }
   ],
   "source": [
    "import pandas as pd\n",
    "from sklearn.linear_model import RidgeCV\n",
    "from sklearn.model_selection import train_test_split\n",
    "from sklearn.metrics import r2_score, mean_squared_error\n",
    "from sklearn.linear_model import LinearRegression\n",
    "\n",
    "df = pd.read_csv(\"Admission_Predict.csv\")\n",
    "\n",
    "# put your code here \n",
    "data = df.values\n",
    "X,y = data[:,:-1], data[:, -1]\n",
    "\n",
    "# splitting the dataset into a training (about 90%) an a test (remaining 10%) \n",
    "X_train, X_test, y_train, y_test = train_test_split(X,y, test_size=0.1, random_state= 1)\n",
    "\n",
    "\n",
    "# training the model on the training subset of item 1.\n",
    "clf = RidgeCV(alphas=[0.1,0.3,0.87,0.8705,0.9,0.902,1,1.15,1.5]).fit(X_train,y_train)\n",
    "\n",
    "print(\"The best value of alpha: \",clf.alpha_)\n",
    "print()\n",
    "\n",
    "\n",
    "# evaluating the prediction of your model\n",
    "y_prediction = clf.predict(X_test)\n",
    "ridge_error = mean_squared_error(y_test,y_prediction)\n",
    "\n",
    "print(\"The MSE for the predictions with Ridge Regression is: \",ridge_error)\n",
    "print(\"R2 Score for ridge: \", r2_score(y_test, y_prediction))\n",
    "print()\n",
    "\n",
    "\n",
    "#comparing with lienar regression\n",
    "L= LinearRegression()\n",
    "L.fit(X_train, y_train)\n",
    "y_predict = L.predict(X_test)\n",
    "linear_error = mean_squared_error(y_predict,y_test)\n",
    "\n",
    "print(\"The MSE for the predictions with Linear Regression is: \",linear_error)\n",
    "print(\"R2 score for linear:\", r2_score(y_test, y_predict))"
   ]
  },
  {
   "cell_type": "markdown",
   "metadata": {},
   "source": [
    "### Question 3. Iterative Hard and Soft Thresholding (10pts)\n",
    "\n",
    "\n",
    "An alternative to the simple OLS criterion or to the Ridge regression model, LASSO regression minimizes a combination of a data fidelity term and a penalty on the sum of the absolute values of the regression coefficients, i.e.\n",
    "\n",
    "\\begin{align}\n",
    "\\ell(\\boldsymbol \\beta ) = \\frac{1}{N}\\sum_{i=1}^N (t^{(i)} - (\\boldsymbol{\\beta}^T \\boldsymbol x^{(i)}))^2 + \\lambda \\sum_{j=0}^D |\\beta_j|, \\quad (\\text{LASSO})\n",
    "\\end{align}\n",
    "\n",
    "One of the main difficulty with the LASSO lies in the non differentiability of the absolute value which appears in the regularization term. Because of the use of the absolute value, the gradient cannot be computed at 0. Instead of relying on gradient updates, we can instead turn to the constrained formulation\n",
    "\n",
    "\n",
    "\\begin{align}\n",
    "\\min & \\quad \\ell(\\boldsymbol \\beta ) = \\frac{1}{N}\\sum_{i=1}^N (t^{(i)} - (\\boldsymbol{\\beta}^T \\boldsymbol x^{(i)}))^2\\\\\n",
    "\\text{subject to}& \\quad \\sum_{j=0}^D |\\beta_j|\\leq t\n",
    "\\end{align}\n",
    "\n",
    "The drawback with such a formulation is that we now have to solve a constrained problem. A common approach relies on the use of thresholding algorithms and in particular to the class of so-called _iterative shrinkage-thresholding algorithms (ISTA)_. If we write the OLS objective in matrix form as $\\ell(\\boldsymbol \\beta) = \\frac{1}{2N}\\|\\tilde{\\mathbf{X}}\\mathbf{\\beta} - \\mathbf{t}\\|_2^2$, Iterative shrinkage-thresholding algorithms are based on the following update :\n",
    "\n",
    "\n",
    "\\begin{align}\n",
    "\\mathbf{\\beta} \\leftarrow \\mathcal{T}_{\\lambda \\eta}\\left\\{\\mathbf{\\beta} - 2\\eta \\tilde{\\mathbf{X}}^T\\left(\\tilde{\\mathbf{X}}\\mathbf{\\beta} - \\mathbf{t}\\right) \\right\\}\n",
    "\\end{align}\n",
    "\n",
    "where $\\mathcal{T}$ is the thresholding operator \n",
    "\\begin{align}\n",
    "\\mathcal{T}_{\\alpha}(\\mathbf{\\beta})_i = \\left(|\\beta_i| - \\alpha\\right)_+\\text{sign}(\\beta_i)\n",
    "\\end{align}\n",
    "\n",
    "Here $\\left(|\\beta_i| - \\alpha\\right)_+ = \\max\\left\\{|\\beta_i| - \\alpha, 0\\right\\}$ and $\\text{sign}(\\beta_i)$ denotes the sign of the coefficient $\\beta_i$. From the definition above, you can also see that $\\lambda \\eta$ acts as a threshold on the $\\beta_i$. The larger $\\lambda$, the more $\\beta_i$ will be set to $0$. \n",
    "\n",
    "\n",
    "#### Question 3.1 (6pts) Complete the function ISTA below which should return a vector of weights $\\mathbf{\\beta}$, starting from some initial guess $\\beta_{\\text{init}}$ and for a training set stored in the matrix $X$ and vector of targets $t$."
   ]
  },
  {
   "cell_type": "code",
   "execution_count": 4,
   "metadata": {},
   "outputs": [],
   "source": [
    "def ISTA(beta_init, lamb, eta, X, t):\n",
    "    \n",
    "    # function should apply the Iterative Shrinkage \n",
    "    # Thresholding updates, starting from Beta_init and \n",
    "    # for a set of feature vectors stored in matrix X \n",
    "    # with associated targets stored in t.\n",
    "    \n",
    "    no_iter = 1000\n",
    "    # creating the X tilde matrix\n",
    "    Xtilde = np.hstack((np.ones(X.shape[0]).reshape(-1,1),X))\n",
    "    \n",
    "    #starting with a beta matrix of paramater values \n",
    "    beta = np.ones((6,1))*beta_init\n",
    "\n",
    "    t = t.reshape(-1,1)\n",
    "  \n",
    "    for i in range(no_iter): \n",
    "        temp_XB_t = np.dot(Xtilde, beta)-t\n",
    "        \n",
    "        #updating value of beta in every loop \n",
    "        beta =   beta - 2*eta*np.dot(np.transpose(Xtilde), temp_XB_t)\n",
    "        \n",
    "        for i in range(6):\n",
    "            if (beta[i][0] < 0):\n",
    "                beta[i][0] = max(np.abs(beta[i][0])- eta*lamb,0)*(-1)\n",
    "            else:\n",
    "                beta[i][0] = max(np.abs(beta[i][0])- eta*lamb,0)\n",
    "                \n",
    "    return beta\n"
   ]
  },
  {
   "cell_type": "markdown",
   "metadata": {},
   "source": [
    "#### Question 3.2 (4pts) Test your algorithm on the dataset provided by the two files 'Assignment2_Ex32_Xi.npy' and 'Assignment2_Ex32_ti.npy' below. as above, two of the weights are irrelevant. Try to tune the parameters $\\eta$ and $\\lambda$ and study when you can recover those. "
   ]
  },
  {
   "cell_type": "code",
   "execution_count": 5,
   "metadata": {
    "scrolled": false
   },
   "outputs": [
    {
     "name": "stdout",
     "output_type": "stream",
     "text": [
      "Inspect beta_ISTA: \n",
      "\n",
      "0.0\n",
      "1.804001433459846\n",
      "0.6847282299141919\n",
      "0.00010902208961878613\n",
      "0.5061634611785284\n",
      "3.6399733816259156e-05\n"
     ]
    }
   ],
   "source": [
    "X = np.load('Assignment2_Ex32_Xi.npy')\n",
    "t = np.load('Assignment2_Ex32_ti.npy')\n",
    "\n",
    "\n",
    "# put your code here \n",
    "pred = ISTA(5,0.002,0.0001,X,t)\n",
    "\n",
    "print(\"Inspect beta_ISTA: \\n\")\n",
    "for i in range(len(pred)):\n",
    "    print(pred[i][0])"
   ]
  },
  {
   "cell_type": "markdown",
   "metadata": {},
   "source": [
    "### Question 4 (5pts). From regression to binary classification: Predicting deaths on the Titanic\n",
    "\n",
    "We have seen how the OLS objective can be used to learn a regression model. This objective remains in fact absolutely valid in the classification framework. In binary classification, the targets associated to the feature vectors take one of two values (let us say $1$ and $0$ or $+1$ and $-1$). If we want to learn a model that classifies some feature vectors $\\mathbf{x}^{(i)}$ as belonging to class $\\mathcal{C}_0$ vs $\\mathcal{C}_1$ and we are given a training set $C_{0, \\text{tr}} = \\left\\{\\mathbf{x}^{(i)}\\right\\}_{i=1}^{N_0}$ and $C_{1, \\text{tr}} = \\left\\{\\mathbf{x}^{(j)}\\right\\}_{j=1}^{N_1}$, we can try to learn a separating plane $\\beta_0 +\\beta_1 x_1 + \\ldots \\beta_D x_D$ such that $\\beta_0 +\\beta_1 x^{(i)}_1 + \\ldots \\beta_D x^{(i)}_D =+1 $ for all $x^{(i)}\\in C_0$ and $\\beta_0 +\\beta_1 x^{(j)}_1 + \\ldots \\beta_D x^{(j)}_D =-1$ for all $x^{(j)}$ in $\\mathcal{C}_1$. \n",
    "\n",
    "For any new point $\\mathbf{x}$ of unknown class, we can then compute $\\beta_0 +\\beta_1x_1 + \\ldots +\\beta_D x_D$ and classify our point as belonging to $C_0$ if $\\beta_0 +\\beta_1x_1 + \\ldots +\\beta_D x_D>0$.\n",
    "\n",
    "Combine this idea with the linear regression model from scikit learn to learn a linear binary classifier for the ['Titanic'](https://www.kaggle.com/c/titanic/data?select=test.csv) dataset from Kaggle. Start by loading the training and test data from this dataset and then complete the cell below.\n"
   ]
  },
  {
   "cell_type": "code",
   "execution_count": 6,
   "metadata": {},
   "outputs": [
    {
     "name": "stdout",
     "output_type": "stream",
     "text": [
      "Accuracy 78.94736842105263 %\n"
     ]
    },
    {
     "name": "stderr",
     "output_type": "stream",
     "text": [
      "/opt/anaconda3/lib/python3.7/site-packages/ipykernel_launcher.py:21: SettingWithCopyWarning: \n",
      "A value is trying to be set on a copy of a slice from a DataFrame\n",
      "\n",
      "See the caveats in the documentation: https://pandas.pydata.org/pandas-docs/stable/user_guide/indexing.html#returning-a-view-versus-a-copy\n",
      "/opt/anaconda3/lib/python3.7/site-packages/ipykernel_launcher.py:24: SettingWithCopyWarning: \n",
      "A value is trying to be set on a copy of a slice from a DataFrame\n",
      "\n",
      "See the caveats in the documentation: https://pandas.pydata.org/pandas-docs/stable/user_guide/indexing.html#returning-a-view-versus-a-copy\n",
      "/opt/anaconda3/lib/python3.7/site-packages/ipykernel_launcher.py:25: SettingWithCopyWarning: \n",
      "A value is trying to be set on a copy of a slice from a DataFrame\n",
      "\n",
      "See the caveats in the documentation: https://pandas.pydata.org/pandas-docs/stable/user_guide/indexing.html#returning-a-view-versus-a-copy\n"
     ]
    }
   ],
   "source": [
    "import pandas as pd\n",
    "import numpy as np\n",
    "\n",
    "from sklearn.linear_model import LinearRegression\n",
    "from sklearn.model_selection import train_test_split\n",
    "\n",
    "training_data = pd.read_csv('train.csv')\n",
    "\n",
    "# Step 1. \n",
    "# =========================================================================\n",
    "# Use the linearRegression model from scikit learn with binary \n",
    "# targets to predict the passengers that will survive and di in the \n",
    "# case of the sinking of a ship. Start by turning the class targets to \n",
    "# binary or +1/-1 values. Then turn possible non numeric features to numbers. Finally \n",
    "# learn the separating plane.\n",
    "\n",
    "# dropping the row with no data \n",
    "training_data = training_data.dropna()\n",
    "\n",
    "training_data.Sex[training_data.Sex == 'male'] = 1\n",
    "training_data.Sex[training_data.Sex == 'female'] = 2\n",
    "\n",
    "training_data.Embarked[training_data.Embarked == 'S'] = 1\n",
    "training_data.Embarked[training_data.Embarked == 'C'] = 2\n",
    "training_data.Embarked[training_data.Embarked == 'Q'] = 3\n",
    "\n",
    "\n",
    "# setting the training set\n",
    "target_data = training_data[\"Survived\"]\n",
    "\n",
    "\n",
    "#dropping the not required columns\n",
    "training_data.drop(['Name', 'Ticket','PassengerId','Cabin','Fare','Survived'],axis='columns', inplace=True)\n",
    "\n",
    "\n",
    "# Splitting in testing and training data because we do not have target in train.csv\n",
    "X_train, X_test, y_train, y_test = train_test_split(training_data.values.tolist(),target_data.values.tolist(), test_size=0.1, random_state= 1)\n",
    "\n",
    "\n",
    "# training the model \n",
    "lin = LinearRegression()\n",
    "lin.fit(X_train,y_train)\n",
    "\n",
    "\n",
    "# Step 2. \n",
    "# =========================================================================\n",
    "# Validate your model on the test set and compute the fraction of correctly \n",
    "# classified samples using the function accuracy_score from the sklearn.metrics module\n",
    "\n",
    "from sklearn.metrics import accuracy_score\n",
    "\n",
    "predictions = lin.predict(X_test)\n",
    "final_predictions = []\n",
    "\n",
    "for i in predictions:\n",
    "    if i<=0.5:\n",
    "        final_predictions.append(0)\n",
    "    else:\n",
    "        final_predictions.append(1)\n",
    "        \n",
    "acc_s = accuracy_score(y_test, final_predictions)\n",
    "\n",
    "print(\"Accuracy\",acc_s*100,\"%\")"
   ]
  },
  {
   "cell_type": "code",
   "execution_count": null,
   "metadata": {
    "scrolled": false
   },
   "outputs": [],
   "source": []
  },
  {
   "cell_type": "code",
   "execution_count": null,
   "metadata": {},
   "outputs": [],
   "source": []
  }
 ],
 "metadata": {
  "kernelspec": {
   "display_name": "Python 3",
   "language": "python",
   "name": "python3"
  },
  "language_info": {
   "codemirror_mode": {
    "name": "ipython",
    "version": 3
   },
   "file_extension": ".py",
   "mimetype": "text/x-python",
   "name": "python",
   "nbconvert_exporter": "python",
   "pygments_lexer": "ipython3",
   "version": "3.7.6"
  }
 },
 "nbformat": 4,
 "nbformat_minor": 4
}
