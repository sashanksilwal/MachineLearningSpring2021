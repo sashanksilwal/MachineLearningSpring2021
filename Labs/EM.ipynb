{
 "cells": [
  {
   "cell_type": "code",
   "execution_count": 7,
   "metadata": {},
   "outputs": [
    {
     "name": "stdout",
     "output_type": "stream",
     "text": [
      "[[-2.91340448 -2.85234342 -2.79128235 ...  3.00951903  3.07058009\n",
      "   3.13164116]\n",
      " [-2.91340448 -2.85234342 -2.79128235 ...  3.00951903  3.07058009\n",
      "   3.13164116]\n",
      " [-2.91340448 -2.85234342 -2.79128235 ...  3.00951903  3.07058009\n",
      "   3.13164116]\n",
      " ...\n",
      " [-2.91340448 -2.85234342 -2.79128235 ...  3.00951903  3.07058009\n",
      "   3.13164116]\n",
      " [-2.91340448 -2.85234342 -2.79128235 ...  3.00951903  3.07058009\n",
      "   3.13164116]\n",
      " [-2.91340448 -2.85234342 -2.79128235 ...  3.00951903  3.07058009\n",
      "   3.13164116]]\n"
     ]
    }
   ],
   "source": [
    "import numpy as np \n",
    "import matplotlib.pyplot as plt \n",
    "\n",
    "mean = [0,0]\n",
    "cov = [[1,0], [0,1]]\n",
    "\n",
    "x, y = np.random.multivariate_normal(mean, cov, 200).T\n",
    "\n",
    "xmin = np.min(x)\n",
    "xmax = np.max(x)\n",
    "ymin = np.min(y)\n",
    "ymax = np.max(y)\n",
    "\n",
    "xx, yy = np.meshgrid(np.linspace(xmin, xmax, 100),np.linspace(ymin, ymax, 100))\n",
    "print(xx)"
   ]
  },
  {
   "cell_type": "code",
   "execution_count": 3,
   "metadata": {},
   "outputs": [
    {
     "data": {
      "image/png": "[encoded data removed]",
      "text/plain": [
       "<Figure size 432x288 with 1 Axes>"
      ]
     },
     "metadata": {
      "needs_background": "light"
     },
     "output_type": "display_data"
    }
   ],
   "source": [
    "plt.scatter(x,y)\n",
    "plt.show()"
   ]
  },
  {
   "cell_type": "code",
   "execution_count": 37,
   "metadata": {},
   "outputs": [
    {
     "ename": "SyntaxError",
     "evalue": "from __future__ imports must occur at the beginning of the file (<ipython-input-37-52856c60f7ac>, line 6)",
     "output_type": "error",
     "traceback": [
      "\u001b[0;36m  File \u001b[0;32m\"<ipython-input-37-52856c60f7ac>\"\u001b[0;36m, line \u001b[0;32m6\u001b[0m\n\u001b[0;31m    cov = [[10, 0.2], [0.2, 1]]\u001b[0m\n\u001b[0m           ^\u001b[0m\n\u001b[0;31mSyntaxError\u001b[0m\u001b[0;31m:\u001b[0m from __future__ imports must occur at the beginning of the file\n"
     ]
    }
   ],
   "source": [
    "import numpy as np\n",
    "import matplotlib.pyplot as plt\n",
    "from __future__ import division\n",
    "\n",
    "mean = [0, 0]\n",
    "cov = [[10, 0.2], [0.2, 1]] \n",
    "\n",
    "x, y = np.random.multivariate_normal(mean, cov, 200).T\n",
    "\n",
    "\n",
    "xmin = np.min(x)\n",
    "xmax = np.max(x)\n",
    "ymin = np.min(y)\n",
    "ymax = np.max(y)\n",
    "\n",
    "xx, yy = np.meshgrid(np.linspace(xmin, xmax, 100), np.linspace(ymin, ymax, 100))\n",
    "\n",
    "coordinate = np.vstack((xx.flatten(), yy.flatten())).T\n",
    "\n",
    "det_cov = np.sqrt(np.linalg.det(cov)) \n",
    "\n",
    "density = np.zeros((np.shape(coordinate)[0],1))\n",
    "\n",
    "for i in range(0,np.shape(coordinate)[0]):\n",
    "    \n",
    "    density[i] = (1/2/np.pi/det_cov)*np.exp((-1/2)*np.matmul(np.matmul((coordinate[i,:] - mean),np.linalg.inv(cov)),\n",
    "              (coordinate[i,:] - mean).T))"
   ]
  },
  {
   "cell_type": "code",
   "execution_count": 38,
   "metadata": {},
   "outputs": [
    {
     "ename": "SyntaxError",
     "evalue": "from __future__ imports must occur at the beginning of the file (<ipython-input-38-cccdbf824125>, line 6)",
     "output_type": "error",
     "traceback": [
      "\u001b[0;36m  File \u001b[0;32m\"<ipython-input-38-cccdbf824125>\"\u001b[0;36m, line \u001b[0;32m6\u001b[0m\n\u001b[0;31m    mean2 = [1, 1]\u001b[0m\n\u001b[0m           ^\u001b[0m\n\u001b[0;31mSyntaxError\u001b[0m\u001b[0;31m:\u001b[0m from __future__ imports must occur at the beginning of the file\n"
     ]
    }
   ],
   "source": [
    "import numpy as np\n",
    "import matplotlib.pyplot as plt\n",
    "from __future__ import division\n",
    "\n",
    "mean1 = [-1, -1]\n",
    "mean2 = [1, 1]\n",
    "\n",
    "cov1 = [[.1, 0.01], [0.01, .1]]  \n",
    "cov2 = [[.1, 0.01], [0.01, .1]]  \n",
    "\n",
    "\n",
    "x1, y1 = np.random.multivariate_normal(mean1, cov1, 200).T\n",
    "x2, y2 = np.random.multivariate_normal(mean2, cov2, 200).T\n",
    "\n",
    "x = np.hstack((x1, x2)).T\n",
    "y = np.hstack((y1, y2)).T\n",
    "\n",
    "xmin = np.min(x)\n",
    "xmax = np.max(x)\n",
    "ymin = np.min(y)\n",
    "ymax = np.max(y)"
   ]
  },
  {
   "cell_type": "code",
   "execution_count": 39,
   "metadata": {},
   "outputs": [
    {
     "ename": "NameError",
     "evalue": "name 'mean1' is not defined",
     "output_type": "error",
     "traceback": [
      "\u001b[0;31m---------------------------------------------------------------------------\u001b[0m",
      "\u001b[0;31mNameError\u001b[0m                                 Traceback (most recent call last)",
      "\u001b[0;32m<ipython-input-39-5bb001ffe974>\u001b[0m in \u001b[0;36m<module>\u001b[0;34m\u001b[0m\n\u001b[1;32m      9\u001b[0m \u001b[0;32mfor\u001b[0m \u001b[0mi\u001b[0m \u001b[0;32min\u001b[0m \u001b[0mrange\u001b[0m\u001b[0;34m(\u001b[0m\u001b[0;36m0\u001b[0m\u001b[0;34m,\u001b[0m\u001b[0mnp\u001b[0m\u001b[0;34m.\u001b[0m\u001b[0mshape\u001b[0m\u001b[0;34m(\u001b[0m\u001b[0mcoordinate\u001b[0m\u001b[0;34m)\u001b[0m\u001b[0;34m[\u001b[0m\u001b[0;36m0\u001b[0m\u001b[0;34m]\u001b[0m\u001b[0;34m)\u001b[0m\u001b[0;34m:\u001b[0m\u001b[0;34m\u001b[0m\u001b[0;34m\u001b[0m\u001b[0m\n\u001b[1;32m     10\u001b[0m \u001b[0;34m\u001b[0m\u001b[0m\n\u001b[0;32m---> 11\u001b[0;31m     density[i] = (1/2)*(1/2/np.pi/det_cov)*np.exp((-1/2)*np.matmul(np.matmul((coordinate[i,:] - mean1),np.linalg.inv(cov1)),\n\u001b[0m\u001b[1;32m     12\u001b[0m               (coordinate[i,:] - mean1).T))+\\\n\u001b[1;32m     13\u001b[0m     (1/2)*(1/2/np.pi/det_cov)*np.exp((-1/2)*np.matmul(np.matmul((coordinate[i,:] - mean2),np.linalg.inv(cov2)),\n",
      "\u001b[0;31mNameError\u001b[0m: name 'mean1' is not defined"
     ]
    }
   ],
   "source": [
    "xx, yy = np.meshgrid(np.linspace(xmin, xmax, 100), np.linspace(ymin, ymax, 100))\n",
    "\n",
    "coordinate = np.vstack((xx.flatten(), yy.flatten())).T\n",
    "\n",
    "det_cov = np.sqrt(np.linalg.det(cov)) \n",
    "\n",
    "density = np.zeros((np.shape(coordinate)[0],1))\n",
    "\n",
    "for i in range(0,np.shape(coordinate)[0]):\n",
    "    \n",
    "    density[i] = (1/2)*(1/2/np.pi/det_cov)*np.exp((-1/2)*np.matmul(np.matmul((coordinate[i,:] - mean1),np.linalg.inv(cov1)),\n",
    "              (coordinate[i,:] - mean1).T))+\\\n",
    "    (1/2)*(1/2/np.pi/det_cov)*np.exp((-1/2)*np.matmul(np.matmul((coordinate[i,:] - mean2),np.linalg.inv(cov2)),\n",
    "              (coordinate[i,:] - mean2).T))"
   ]
  },
  {
   "cell_type": "code",
   "execution_count": null,
   "metadata": {},
   "outputs": [],
   "source": []
  }
 ],
 "metadata": {
  "kernelspec": {
   "display_name": "Python 3",
   "language": "python",
   "name": "python3"
  },
  "language_info": {
   "codemirror_mode": {
    "name": "ipython",
    "version": 3
   },
   "file_extension": ".py",
   "mimetype": "text/x-python",
   "name": "python",
   "nbconvert_exporter": "python",
   "pygments_lexer": "ipython3",
   "version": "3.7.6"
  }
 },
 "nbformat": 4,
 "nbformat_minor": 4
}
