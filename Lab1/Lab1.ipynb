{
 "cells": [
  {
   "cell_type": "markdown",
   "metadata": {},
   "source": [
    "## Lab 1: Linear regression, OLS and gradient descent "
   ]
  },
  {
   "cell_type": "code",
   "execution_count": 1,
   "metadata": {},
   "outputs": [
    {
     "name": "stdout",
     "output_type": "stream",
     "text": [
      "[[1.         0.        ]\n",
      " [1.         0.55555556]\n",
      " [1.         1.11111111]\n",
      " [1.         1.66666667]\n",
      " [1.         2.22222222]\n",
      " [1.         2.77777778]\n",
      " [1.         3.33333333]\n",
      " [1.         3.88888889]\n",
      " [1.         4.44444444]\n",
      " [1.         5.        ]]\n",
      "[1.         1.55555556 2.11111111 2.66666667 3.22222222 3.77777778\n",
      " 4.33333333 4.88888889 5.44444444 6.        ]\n"
     ]
    },
    {
     "data": {
      "image/png": "[encoded data removed]",
      "text/plain": [
       "<Figure size 432x288 with 1 Axes>"
      ]
     },
     "metadata": {
      "needs_background": "light"
     },
     "output_type": "display_data"
    }
   ],
   "source": [
    "\n",
    "import numpy as np\n",
    "import matplotlib.pyplot as plt\n",
    "\n",
    "\n",
    "# 1) Generating synthetic data\n",
    "# =================================\n",
    "# We start by generating equispaced points on the interval [0,5]. In this case we \n",
    "# assume a simple parametric model between the targets and the features \n",
    "# of the form t = h_beta(x) and we suppose \n",
    "# that our targets are generated as t_i = h_beta(x_i) = beta0 + beta1*x_i for \n",
    "# some beta0, beta1 (which we fix to arbitrary unknown constants)\n",
    "\n",
    "x = np.linspace(0, 5, num=10)\n",
    "\n",
    "xtilde = np.hstack((np.ones((len(x),1)).reshape(-1,1), x.reshape(-1,1)))\n",
    "\n",
    "\n",
    "print(xtilde)\n",
    "\n",
    "beta0 =1\n",
    "beta1 = 1\n",
    "\n",
    "\n",
    "beta = np.array([beta0, beta1])\n",
    "\n",
    "targets = np.dot(beta, xtilde.T)\n",
    "\n",
    "print(targets) # ti's \n",
    "\n",
    "# In most situation our assumption on the model h_beta will not be able to \n",
    "# match perfectly the data set. To put ourselves in such a framework, we perturb \n",
    "# our samples with some random noise epsilon_i so that they do not perfectly lie on \n",
    "# a line anymore. \n",
    "\n",
    "t_noisy = targets + np.random.normal(0, 0.2, len(x))\n",
    "\n",
    "plt.scatter(x, t_noisy, c='r')\n",
    "plt.plot(x, targets)\n",
    "plt.show()\n",
    "\n"
   ]
  },
  {
   "cell_type": "code",
   "execution_count": 2,
   "metadata": {},
   "outputs": [],
   "source": [
    "# 2) Learning the model\n",
    "# =================================\n",
    "\n",
    "# The supervised learning problem then consist in find an appropriate mapping h_beta \n",
    "# that predicts as well as possible the targets t_i from the features x_i's\n",
    "# Since we assumed the simple parametric model h_beta(x) = beta0 + beta1*x, we are left with \n",
    "# finding the beta0 and beta1 such that the t_i are best predicted from the x_i\n",
    "\n",
    "# there are several criteria we could use. Here we choose to use a least squares loss (OLS for ordinary least squares)\n",
    "# of the form L(beta) = sum_i (t_i - (beta0 + beta1*x_i))^2 which penalize the squares of the \n",
    "# differences between the predictions from our model and the actual targets\n",
    "\n",
    "\n",
    "# We have our criterion, now we need a way to find the associated optimal \n",
    "# beta0 and beta1, that is to say the values beta0 and beta1 that make this loss minimum\n",
    "# for this again there are multiple options. The first one is to follow the \n",
    "# opposite direction to the gradient until we reach a minimum. Indeed, the gradient \n",
    "# of a function always points in the direction of steepest ascent. By taking - grad, we \n",
    "# are thus guaranteed to decrease the value of the function. The gradient is the vector concatenating \n",
    "# the derivatives with respect to each variable (beta0 and beta1), we thus have grad = [dL/dbeta0, dL/dbeta1]\n",
    "\n",
    "# Once we have computed the derivatives of L with respect to beta0 and beta1, \n",
    "# we can then apply the updates\n",
    "\n",
    "# beta0 <-- beta0 - eta * dL/dbeta0\n",
    "# beta1 <-- beta1 - eta * dL/dbeta1\n",
    "\n",
    "# for a sufficiently small eta also known as the learning rate. If eta is small enough, since -gradient \n",
    "# always points in the direction of steepest descent will end up reaching a point of zero derivative\n"
   ]
  },
  {
   "cell_type": "code",
   "execution_count": 3,
   "metadata": {},
   "outputs": [],
   "source": [
    "\n",
    "# setting the learning rate\n",
    "eta = 0.1\n",
    "\n",
    "# setting max num of gradient updates\n",
    "maxIter = 100\n",
    "\n",
    "\n",
    "# initial, starting point for (beta0, beta1)\n",
    "beta_init = np.random.normal(0,1,2)\n",
    "beta = beta_init\n",
    "\n",
    "reweighting = np.true_divide(1, 2*len(x))\n",
    "\n",
    "\n",
    "\n",
    "# gradient updates\n",
    "\n",
    "for iter in np.arange(0,maxIter):\n",
    "\n",
    "    \n",
    "    grad_beta0 = 2*reweighting*np.sum((targets.reshape(-1,1) - np.dot(beta, xtilde.T).reshape(-1,1)))*(-1)\n",
    "    grad_beta1_tmp = (targets.reshape(-1,1) - np.dot(beta, xtilde.T).reshape(-1,1))\n",
    "    grad_beta1 = -2*reweighting*np.sum(np.multiply(grad_beta1_tmp,x.reshape(-1,1)))\n",
    "    \n",
    "    beta[0] = beta[0] - eta*grad_beta0\n",
    "    beta[1] = beta[1] - eta*grad_beta1\n"
   ]
  },
  {
   "cell_type": "code",
   "execution_count": 4,
   "metadata": {},
   "outputs": [
    {
     "data": {
      "image/png": "[encoded data removed]",
      "text/plain": [
       "<Figure size 432x288 with 1 Axes>"
      ]
     },
     "metadata": {
      "needs_background": "light"
     },
     "output_type": "display_data"
    }
   ],
   "source": [
    "xprediction = np.linspace(0,5,50)\n",
    "xpredictiontilde = np.hstack((np.ones((len(xprediction),1)).reshape(-1,1), xprediction.reshape(-1,1)))\n",
    "\n",
    "targets_prediction = np.dot(beta, xpredictiontilde.T)\n",
    "\n",
    "\n",
    "# plot of the recovered model on top of the true (unknown one)\n",
    "plt.scatter(x, t_noisy, c='r')\n",
    "plt.plot(x, targets)\n",
    "plt.plot(xprediction, targets_prediction, c='g')\n",
    "plt.show()\n"
   ]
  },
  {
   "cell_type": "code",
   "execution_count": 33,
   "metadata": {},
   "outputs": [
    {
     "data": {
      "text/plain": [
       "-43.21923641728319"
      ]
     },
     "execution_count": 33,
     "metadata": {},
     "output_type": "execute_result"
    }
   ],
   "source": [
    "grad_beta0"
   ]
  }
 ],
 "metadata": {
  "kernelspec": {
   "display_name": "Python 3",
   "language": "python",
   "name": "python3"
  },
  "language_info": {
   "codemirror_mode": {
    "name": "ipython",
    "version": 3
   },
   "file_extension": ".py",
   "mimetype": "text/x-python",
   "name": "python",
   "nbconvert_exporter": "python",
   "pygments_lexer": "ipython3",
   "version": "3.8.5"
  }
 },
 "nbformat": 4,
 "nbformat_minor": 4
}
