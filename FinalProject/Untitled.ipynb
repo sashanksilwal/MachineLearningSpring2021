{
 "cells": [
  {
   "cell_type": "code",
   "execution_count": 1,
   "id": "quantitative-samba",
   "metadata": {},
   "outputs": [],
   "source": [
    "from tensorflow.keras.applications.mobilenet_v2 import preprocess_input\n",
    "from tensorflow.keras.preprocessing.image import img_to_array\n",
    "from tensorflow.keras.models import load_model\n",
    "import numpy as np\n",
    "import argparse\n",
    "import cv2\n",
    "import os"
   ]
  },
  {
   "cell_type": "code",
   "execution_count": 2,
   "id": "natural-lewis",
   "metadata": {},
   "outputs": [],
   "source": [
    "# load our serialized face detector model from disk\n",
    "prototxtPath = r\"/Users/sashanksilwal/Downloads/Face-Mask-Detection/face_detector/deploy.prototxt\"\n",
    "weightsPath = r\"/Users/sashanksilwal/Downloads/Face-Mask-Detection/face_detector/res10_300x300_ssd_iter_140000.caffemodel\"\n",
    "faceNet = cv2.dnn.readNet(prototxtPath, weightsPath)\n",
    "\n",
    "\n"
   ]
  },
  {
   "cell_type": "code",
   "execution_count": 3,
   "id": "single-operations",
   "metadata": {},
   "outputs": [
    {
     "name": "stdout",
     "output_type": "stream",
     "text": [
      "WARNING:tensorflow:From /opt/anaconda3/envs/PythonGPU/lib/python3.7/site-packages/tensorflow/python/ops/init_ops.py:97: calling GlorotUniform.__init__ (from tensorflow.python.ops.init_ops) with dtype is deprecated and will be removed in a future version.\n",
      "Instructions for updating:\n",
      "Call initializer instance with the dtype argument instead of passing it to the constructor\n",
      "WARNING:tensorflow:From /opt/anaconda3/envs/PythonGPU/lib/python3.7/site-packages/tensorflow/python/ops/init_ops.py:1251: calling VarianceScaling.__init__ (from tensorflow.python.ops.init_ops) with dtype is deprecated and will be removed in a future version.\n",
      "Instructions for updating:\n",
      "Call initializer instance with the dtype argument instead of passing it to the constructor\n",
      "WARNING:tensorflow:From /opt/anaconda3/envs/PythonGPU/lib/python3.7/site-packages/tensorflow/python/ops/init_ops.py:97: calling Zeros.__init__ (from tensorflow.python.ops.init_ops) with dtype is deprecated and will be removed in a future version.\n",
      "Instructions for updating:\n",
      "Call initializer instance with the dtype argument instead of passing it to the constructor\n",
      "WARNING:tensorflow:From /opt/anaconda3/envs/PythonGPU/lib/python3.7/site-packages/tensorflow/python/ops/init_ops.py:97: calling Ones.__init__ (from tensorflow.python.ops.init_ops) with dtype is deprecated and will be removed in a future version.\n",
      "Instructions for updating:\n",
      "Call initializer instance with the dtype argument instead of passing it to the constructor\n",
      "WARNING:tensorflow:From /opt/anaconda3/envs/PythonGPU/lib/python3.7/site-packages/tensorflow/python/ops/math_grad.py:1250: add_dispatch_support.<locals>.wrapper (from tensorflow.python.ops.array_ops) is deprecated and will be removed in a future version.\n",
      "Instructions for updating:\n",
      "Use tf.where in 2.0, which has the same broadcast rule as np.where\n"
     ]
    }
   ],
   "source": [
    "model = load_model(\"mask_detector.model\")"
   ]
  },
  {
   "cell_type": "code",
   "execution_count": 4,
   "id": "resident-antarctica",
   "metadata": {},
   "outputs": [],
   "source": [
    "image = cv2.imread(\"/Users/sashanksilwal/Downloads/Face-Mask-Detection/1.png\")\n",
    "orig = image.copy()\n",
    "(h, w) = image.shape[:2]\n",
    "# construct a blob from the image\n",
    "blob = cv2.dnn.blobFromImage(image, 1.0, (300, 300), (104.0, 177.0, 123.0))\n",
    "# pass the blob through the network and obtain the face detections\n",
    "\n",
    "\n",
    "faceNet.setInput(blob)\n",
    "detections = faceNet.forward()"
   ]
  },
  {
   "cell_type": "code",
   "execution_count": 5,
   "id": "organic-alpha",
   "metadata": {},
   "outputs": [],
   "source": [
    "# # loop over the detections\n",
    "# for i in range(0, detections.shape[2]):\n",
    "#     # extract the confidence (i.e., probability) associated with\n",
    "#     # the detection\n",
    "#     confidence = detections[0, 0, i, 2]\n",
    "#     # filter out weak detections by ensuring the confidence is\n",
    "#     # greater than the minimum confidence\n",
    "#     if confidence > 0.5:\n",
    "#         # compute the (x, y)-coordinates of the bounding box for\n",
    "#         # the object\n",
    "#         box = detections[0, 0, i, 3:7] * np.array([w, h, w, h])\n",
    "#         (startX, startY, endX, endY) = box.astype(\"int\")\n",
    "#         # ensure the bounding boxes fall within the dimensions of\n",
    "#         # the frame\n",
    "#         (startX, startY) = (max(0, startX), max(0, startY))\n",
    "#         (endX, endY) = (min(w - 1, endX), min(h - 1, endY))\n",
    "#         # extract the face ROI, convert it from BGR to RGB channel\n",
    "#         # ordering, resize it to 224x224, and preprocess it\n",
    "#         face = image[startY:endY, startX:endX]\n",
    "#         face = cv2.cvtColor(image, cv2.COLOR_BGR2RGB)\n",
    "#         face = cv2.resize(image, (224, 224))\n",
    "#         face = img_to_array(face)\n",
    "#         face = preprocess_input(face)\n",
    "#         face = np.expand_dims(face, axis=0)\n",
    "#         # pass the face through the model to determine if the face\n",
    "#         # has a mask or not\n",
    "#         (mask, withoutMask) = model.predict(face)[0]"
   ]
  },
  {
   "cell_type": "code",
   "execution_count": 6,
   "id": "accessible-mission",
   "metadata": {},
   "outputs": [
    {
     "ename": "error",
     "evalue": "OpenCV(4.5.1) /private/var/folders/nz/vv4_9tw56nv9k3tkvyszvwg80000gn/T/pip-req-build-oe0iat4a/opencv/modules/imgproc/src/color.cpp:182: error: (-215:Assertion failed) !_src.empty() in function 'cvtColor'\n",
     "output_type": "error",
     "traceback": [
      "\u001b[0;31m---------------------------------------------------------------------------\u001b[0m",
      "\u001b[0;31merror\u001b[0m                                     Traceback (most recent call last)",
      "\u001b[0;32m<ipython-input-6-3c239fc9bdf6>\u001b[0m in \u001b[0;36m<module>\u001b[0;34m\u001b[0m\n\u001b[1;32m     25\u001b[0m         \u001b[0;31m# ordering, resize it to 224x224, and preprocess it\u001b[0m\u001b[0;34m\u001b[0m\u001b[0;34m\u001b[0m\u001b[0;34m\u001b[0m\u001b[0m\n\u001b[1;32m     26\u001b[0m         \u001b[0mface\u001b[0m \u001b[0;34m=\u001b[0m \u001b[0mimage\u001b[0m\u001b[0;34m[\u001b[0m\u001b[0mstartY\u001b[0m\u001b[0;34m:\u001b[0m\u001b[0mendY\u001b[0m\u001b[0;34m,\u001b[0m \u001b[0mstartX\u001b[0m\u001b[0;34m:\u001b[0m\u001b[0mendX\u001b[0m\u001b[0;34m]\u001b[0m\u001b[0;34m\u001b[0m\u001b[0;34m\u001b[0m\u001b[0m\n\u001b[0;32m---> 27\u001b[0;31m         \u001b[0mface\u001b[0m \u001b[0;34m=\u001b[0m \u001b[0mcv2\u001b[0m\u001b[0;34m.\u001b[0m\u001b[0mcvtColor\u001b[0m\u001b[0;34m(\u001b[0m\u001b[0mface\u001b[0m\u001b[0;34m,\u001b[0m \u001b[0mcv2\u001b[0m\u001b[0;34m.\u001b[0m\u001b[0mCOLOR_BGR2RGB\u001b[0m\u001b[0;34m)\u001b[0m\u001b[0;34m\u001b[0m\u001b[0;34m\u001b[0m\u001b[0m\n\u001b[0m\u001b[1;32m     28\u001b[0m         \u001b[0mface\u001b[0m \u001b[0;34m=\u001b[0m \u001b[0mcv2\u001b[0m\u001b[0;34m.\u001b[0m\u001b[0mresize\u001b[0m\u001b[0;34m(\u001b[0m\u001b[0mface\u001b[0m\u001b[0;34m,\u001b[0m \u001b[0;34m(\u001b[0m\u001b[0;36m224\u001b[0m\u001b[0;34m,\u001b[0m \u001b[0;36m224\u001b[0m\u001b[0;34m)\u001b[0m\u001b[0;34m)\u001b[0m\u001b[0;34m\u001b[0m\u001b[0;34m\u001b[0m\u001b[0m\n\u001b[1;32m     29\u001b[0m         \u001b[0mface\u001b[0m \u001b[0;34m=\u001b[0m \u001b[0mimg_to_array\u001b[0m\u001b[0;34m(\u001b[0m\u001b[0mface\u001b[0m\u001b[0;34m)\u001b[0m\u001b[0;34m\u001b[0m\u001b[0;34m\u001b[0m\u001b[0m\n",
      "\u001b[0;31merror\u001b[0m: OpenCV(4.5.1) /private/var/folders/nz/vv4_9tw56nv9k3tkvyszvwg80000gn/T/pip-req-build-oe0iat4a/opencv/modules/imgproc/src/color.cpp:182: error: (-215:Assertion failed) !_src.empty() in function 'cvtColor'\n"
     ]
    }
   ],
   "source": [
    "faces = []\n",
    "locs = []\n",
    "preds = []\n",
    "\n",
    "\n",
    "for i in range(0, detections.shape[2]):\n",
    "    # extract the confidence (i.e., probability) associated with\n",
    "    # the detection\n",
    "    confidence = detections[0, 0, i, 2]\n",
    "\n",
    "    # filter out weak detections by ensuring the confidence is\n",
    "    # greater than the minimum confidence\n",
    "    if confidence > 0.5:\n",
    "        # compute the (x, y)-coordinates of the bounding box for\n",
    "        # the object\n",
    "        box = detections[0, 0, i, 3:7] * np.array([w, h, w, h])\n",
    "        (startX, startY, endX, endY) = box.astype(\"int\")\n",
    "\n",
    "        # ensure the bounding boxes fall within the dimensions of\n",
    "        # the frame\n",
    "        (startX, startY) = (max(0, startX), max(0, startY))\n",
    "        (endX, endY) = (min(w - 1, endX), min(h - 1, endY))\n",
    "\n",
    "        # extract the face ROI, convert it from BGR to RGB channel\n",
    "        # ordering, resize it to 224x224, and preprocess it\n",
    "        face = image[startY:endY, startX:endX]\n",
    "        face = cv2.cvtColor(face, cv2.COLOR_BGR2RGB)\n",
    "        face = cv2.resize(face, (224, 224))\n",
    "        face = img_to_array(face)\n",
    "        face = preprocess_input(face)\n",
    "        \n",
    "        \n",
    "        (mask, withoutMask) = model.predict(face)[0]\n",
    "\n",
    "#         # add the face and bounding boxes to their respective\n",
    "#         # lists\n",
    "#         faces.append(face)\n",
    "#         locs.append((startX, startY, endX, endY))\n",
    "\n",
    "# # only make a predictions if at least one face was detected\n",
    "# if len(faces) > 0:\n",
    "#     # for faster inference we'll make batch predictions on *all*\n",
    "#     # faces at the same time rather than one-by-one predictions\n",
    "#     # in the above `for` loop\n",
    "#     faces = np.array(faces, dtype=\"float32\")\n",
    "#     preds = model.predict(faces, batch_size=32)\n",
    "\n",
    "# # return a 2-tuple of the face locations and their corresponding\n",
    "# # locations\n",
    "# return (locs, preds)\n",
    "\n",
    "\n"
   ]
  },
  {
   "cell_type": "code",
   "execution_count": null,
   "id": "different-daughter",
   "metadata": {},
   "outputs": [],
   "source": [
    "print(startX, startY, endX, endY)\n",
    "face = image[startY:endY, startX:endX]\n",
    "print(face)"
   ]
  },
  {
   "cell_type": "code",
   "execution_count": null,
   "id": "explicit-teens",
   "metadata": {},
   "outputs": [],
   "source": [
    "# determine the class label and color we'll use to draw\n",
    "# the bounding box and text\n",
    "label = \"Mask\" if mask > withoutMask else \"No Mask\"\n",
    "color = (0, 255, 0) if label == \"Mask\" else (0, 0, 255)\n",
    "# include the probability in the label\n",
    "label = \"{}: {:.2f}%\".format(label, max(mask, withoutMask) * 100)\n",
    "# display the label and bounding box rectangle on the output\n",
    "# frame\n",
    "cv2.putText(image, label, (startX, startY - 10),\n",
    "    cv2.FONT_HERSHEY_SIMPLEX, 0.45, color, 2)\n",
    "cv2.rectangle(image, (startX, startY), (endX, endY), color, 2)\n",
    "# show the output image\n",
    "cv2.imshow(\"Output\", image)\n",
    "cv2.waitKey(0)"
   ]
  },
  {
   "cell_type": "code",
   "execution_count": null,
   "id": "reserved-offer",
   "metadata": {},
   "outputs": [],
   "source": []
  }
 ],
 "metadata": {
  "kernelspec": {
   "display_name": "Python 3",
   "language": "python",
   "name": "python3"
  },
  "language_info": {
   "codemirror_mode": {
    "name": "ipython",
    "version": 3
   },
   "file_extension": ".py",
   "mimetype": "text/x-python",
   "name": "python",
   "nbconvert_exporter": "python",
   "pygments_lexer": "ipython3",
   "version": "3.7.9"
  }
 },
 "nbformat": 4,
 "nbformat_minor": 5
}
