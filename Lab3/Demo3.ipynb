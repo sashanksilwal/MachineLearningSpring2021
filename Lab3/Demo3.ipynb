{
 "cells": [
  {
   "cell_type": "code",
   "execution_count": 1,
   "metadata": {},
   "outputs": [
    {
     "name": "stdout",
     "output_type": "stream",
     "text": [
      "[1 0 1 2 1 0 2 0 1 2 2 2 1 1 0 1 0 2 2 0 0 1 2 2 0 2 0 1 1 0]\n"
     ]
    }
   ],
   "source": [
    "from sklearn.datasets import make_blobs\n",
    "import numpy as np \n",
    "\n",
    "X, y = make_blobs(n_samples=30, centers=3, n_features=2)\n",
    "\n",
    "import matplotlib.pyplot as plt\n",
    "\n",
    "\n",
    "#plt.scatter(X[:,0], X[:,1], c=)\n",
    "print(y)\n",
    "\n",
    "from sklearn.preprocessing import OneHotEncoder\n",
    "\n",
    "enc = OneHotEncoder()\n",
    "enc.fit(y.reshape(-1,1))\n",
    "T = enc.transform(y.reshape(-1,1)).toarray()\n",
    "T = np.array(T)"
   ]
  },
  {
   "cell_type": "code",
   "execution_count": 2,
   "metadata": {},
   "outputs": [
    {
     "data": {
      "text/plain": [
       "(30, 3)"
      ]
     },
     "execution_count": 2,
     "metadata": {},
     "output_type": "execute_result"
    }
   ],
   "source": [
    "np.shape(np.array(T))"
   ]
  },
  {
   "cell_type": "code",
   "execution_count": 3,
   "metadata": {},
   "outputs": [
    {
     "name": "stdout",
     "output_type": "stream",
     "text": [
      "[[-0.24699846  0.35926347  0.88773499]\n",
      " [ 0.11687706  0.00864923 -0.12552629]\n",
      " [-0.04443884  0.06392534 -0.0194865 ]]\n"
     ]
    }
   ],
   "source": [
    "import numpy as np\n",
    "from numpy.linalg import inv\n",
    "\n",
    "Xtilde = np.hstack((np.ones((np.shape(X)[0],1)), X))\n",
    "\n",
    "XX = np.matmul(Xtilde.T, Xtilde)\n",
    "XT = np.matmul(Xtilde.T, T)\n",
    "\n",
    "Beta = np.matmul(inv(XX), XT)\n",
    "print(Beta)"
   ]
  },
  {
   "cell_type": "code",
   "execution_count": 4,
   "metadata": {},
   "outputs": [
    {
     "data": {
      "image/png": "[encoded data removed]",
      "text/plain": [
       "<Figure size 432x288 with 1 Axes>"
      ]
     },
     "metadata": {
      "needs_background": "light"
     },
     "output_type": "display_data"
    }
   ],
   "source": [
    "plt.scatter(X[:,0], X[:,1], c = y)\n",
    "plt.show()"
   ]
  },
  {
   "cell_type": "code",
   "execution_count": 6,
   "metadata": {},
   "outputs": [
    {
     "name": "stdout",
     "output_type": "stream",
     "text": [
      "(3, 10000)\n"
     ]
    },
    {
     "data": {
      "image/png": "[encoded data removed]",
      "text/plain": [
       "<Figure size 432x288 with 1 Axes>"
      ]
     },
     "metadata": {
      "needs_background": "light"
     },
     "output_type": "display_data"
    }
   ],
   "source": [
    "x1min = np.min(X[:,0])\n",
    "x1max = np.max(X[:,0])\n",
    "x2min = np.min(X[:,1])\n",
    "x2max = np.max(X[:,1])\n",
    "\n",
    "xx1, xx2 = np.meshgrid(np.linspace(x1min, x1max, 100), np.linspace(x2min, x2max, 100))\n",
    "\n",
    "Xpredict = np.vstack((xx1.flatten(), xx2.flatten())).T\n",
    "\n",
    "XtildePredict = np.hstack((np.ones((np.shape(Xpredict)[0],1)), Xpredict))\n",
    "\n",
    "prediction = np.matmul(Beta.T,XtildePredict.T) \n",
    "print(np.shape(prediction))\n",
    "\n",
    "predictedTargets = np.zeros((len(xx1.flatten()), 1))\n",
    "\n",
    "for i in range(len(xx1.flatten())):\n",
    "    \n",
    "    predictedTargets[i] = np.argmax(prediction[:,i])\n",
    "    \n",
    "\n",
    "    \n",
    "    \n",
    "plt.scatter(X[:,0], X[:,1], c = y)\n",
    "plt.contourf(xx1, xx2, np.reshape(predictedTargets,np.shape(xx1)), alpha = .3)\n",
    "plt.show()"
   ]
  },
  {
   "cell_type": "code",
   "execution_count": null,
   "metadata": {},
   "outputs": [],
   "source": []
  }
 ],
 "metadata": {
  "kernelspec": {
   "display_name": "Python 3",
   "language": "python",
   "name": "python3"
  },
  "language_info": {
   "codemirror_mode": {
    "name": "ipython",
    "version": 3
   },
   "file_extension": ".py",
   "mimetype": "text/x-python",
   "name": "python",
   "nbconvert_exporter": "python",
   "pygments_lexer": "ipython3",
   "version": "3.7.6"
  }
 },
 "nbformat": 4,
 "nbformat_minor": 4
}
